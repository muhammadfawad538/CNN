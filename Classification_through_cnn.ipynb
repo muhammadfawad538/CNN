{
  "nbformat": 4,
  "nbformat_minor": 0,
  "metadata": {
    "colab": {
      "provenance": [],
      "gpuType": "T4",
      "authorship_tag": "ABX9TyNni19X2a//HNJ2zgb2FSis",
      "include_colab_link": true
    },
    "kernelspec": {
      "name": "python3",
      "display_name": "Python 3"
    },
    "language_info": {
      "name": "python"
    },
    "accelerator": "GPU"
  },
  "cells": [
    {
      "cell_type": "markdown",
      "metadata": {
        "id": "view-in-github",
        "colab_type": "text"
      },
      "source": [
        "<a href=\"https://colab.research.google.com/github/muhammadfawad538/CNN/blob/main/Classification_through_cnn.ipynb\" target=\"_parent\"><img src=\"https://colab.research.google.com/assets/colab-badge.svg\" alt=\"Open In Colab\"/></a>"
      ]
    },
    {
      "cell_type": "code",
      "execution_count": null,
      "metadata": {
        "colab": {
          "base_uri": "https://localhost:8080/"
        },
        "id": "x4Ctwh6IZrc6",
        "outputId": "62abba37-74e2-4a66-9f69-81abccb6011b"
      },
      "outputs": [
        {
          "output_type": "stream",
          "name": "stdout",
          "text": [
            "Mounted at /content/drive\n"
          ]
        }
      ],
      "source": [
        "from google.colab import drive\n",
        "drive.mount('/content/drive')\n"
      ]
    },
    {
      "cell_type": "code",
      "source": [
        "import zipfile\n",
        "import os\n",
        "\n",
        "zip_path = \"/content/drive/MyDrive/cnn_project/archive (1).zip\"  # Replace with your uploaded zip file name\n",
        "extract_path = \"/content/unzipped_data\"\n",
        "\n",
        "with zipfile.ZipFile(zip_path, 'r') as zip_ref:\n",
        "    zip_ref.extractall(extract_path)\n",
        "\n",
        "print(\"✅ Unzipped to:\", extract_path)\n"
      ],
      "metadata": {
        "colab": {
          "base_uri": "https://localhost:8080/"
        },
        "id": "BpdJRwpQZ21S",
        "outputId": "403a152d-9f92-4eb9-f086-f66b05330d34"
      },
      "execution_count": null,
      "outputs": [
        {
          "output_type": "stream",
          "name": "stdout",
          "text": [
            "✅ Unzipped to: /content/unzipped_data\n"
          ]
        }
      ]
    },
    {
      "cell_type": "code",
      "source": [
        "# Update this to your actual image directory\n",
        "data_dir = '/content/unzipped_data/animals/animals'  # contains 90 folders (one per animal class)\n"
      ],
      "metadata": {
        "id": "U-2loc-7Z2yE"
      },
      "execution_count": null,
      "outputs": []
    },
    {
      "cell_type": "code",
      "source": [
        "import os\n",
        "import shutil\n",
        "import random\n",
        "\n",
        "def split_dataset(source_dir, output_dir='dataset', train_ratio=0.8, val_ratio=0.1):\n",
        "    if os.path.exists(output_dir):\n",
        "        shutil.rmtree(output_dir)\n",
        "\n",
        "    classes = os.listdir(source_dir)\n",
        "    for cls in classes:\n",
        "        cls_path = os.path.join(source_dir, cls)\n",
        "        if not os.path.isdir(cls_path):\n",
        "            continue\n",
        "\n",
        "        images = os.listdir(cls_path)\n",
        "        random.shuffle(images)\n",
        "\n",
        "        train_count = int(train_ratio * len(images))\n",
        "        val_count = int(val_ratio * len(images))\n",
        "        test_count = len(images) - train_count - val_count\n",
        "\n",
        "        splits = {\n",
        "            'train': images[:train_count],\n",
        "            'val': images[train_count:train_count+val_count],\n",
        "            'test': images[train_count+val_count:]\n",
        "        }\n",
        "\n",
        "        for split, split_images in splits.items():\n",
        "            split_dir = os.path.join(output_dir, split, cls)\n",
        "            os.makedirs(split_dir, exist_ok=True)\n",
        "            for img in split_images:\n",
        "                src = os.path.join(cls_path, img)\n",
        "                dst = os.path.join(split_dir, img)\n",
        "                shutil.copy(src, dst)\n",
        "\n",
        "# Run the split\n",
        "source_dir = '/content/unzipped_data/animals/animals'\n",
        "split_dataset(source_dir)\n"
      ],
      "metadata": {
        "id": "1MEN1Ai36h8O"
      },
      "execution_count": null,
      "outputs": []
    },
    {
      "cell_type": "code",
      "source": [
        "import torch\n",
        "from torchvision import datasets, transforms\n",
        "from torch.utils.data import DataLoader\n",
        "\n",
        "data_transforms = {\n",
        "    'train': transforms.Compose([\n",
        "        transforms.Resize((128, 128)),\n",
        "        transforms.RandomHorizontalFlip(),\n",
        "        transforms.ToTensor()\n",
        "    ]),\n",
        "    'val': transforms.Compose([\n",
        "        transforms.Resize((128, 128)),\n",
        "        transforms.ToTensor()\n",
        "    ]),\n",
        "    'test': transforms.Compose([\n",
        "        transforms.Resize((128, 128)),\n",
        "        transforms.ToTensor()\n",
        "    ]),\n",
        "}\n",
        "\n",
        "data_dir = 'dataset'  # created above\n",
        "image_datasets = {x: datasets.ImageFolder(os.path.join(data_dir, x), transform=data_transforms[x]) for x in ['train', 'val', 'test']}\n",
        "dataloaders = {x: DataLoader(image_datasets[x], batch_size=8, shuffle=True) for x in ['train', 'val', 'test']}\n",
        "class_names = image_datasets['train'].classes\n",
        "device = torch.device(\"cuda\" if torch.cuda.is_available() else \"cpu\")\n",
        "\n",
        "print(f\"✅ Classes found: {len(class_names)}\")\n"
      ],
      "metadata": {
        "colab": {
          "base_uri": "https://localhost:8080/"
        },
        "id": "LYNPzNji6h54",
        "outputId": "86c80207-33d7-47c1-fe92-9f44651d667b"
      },
      "execution_count": null,
      "outputs": [
        {
          "output_type": "stream",
          "name": "stdout",
          "text": [
            "✅ Classes found: 90\n"
          ]
        }
      ]
    },
    {
      "cell_type": "code",
      "source": [
        "import torch.nn as nn\n",
        "\n",
        "class SimpleCNN(nn.Module):\n",
        "    def __init__(self, num_classes):\n",
        "        super(SimpleCNN, self).__init__()\n",
        "        self.conv = nn.Sequential(\n",
        "            nn.Conv2d(3, 32, 3, padding=1), nn.ReLU(), nn.MaxPool2d(2),\n",
        "            nn.Conv2d(32, 64, 3, padding=1), nn.ReLU(), nn.MaxPool2d(2)\n",
        "        )\n",
        "        self.fc = nn.Sequential(\n",
        "            nn.Flatten(),\n",
        "            nn.Linear(64 * 32 * 32, 128), nn.ReLU(),\n",
        "            nn.Linear(128, num_classes)\n",
        "        )\n",
        "\n",
        "    def forward(self, x):\n",
        "        x = self.conv(x)\n",
        "        x = self.fc(x)\n",
        "        return x\n",
        "\n",
        "model = SimpleCNN(num_classes=len(class_names)).to(device)\n"
      ],
      "metadata": {
        "id": "dc-OkfT46h16"
      },
      "execution_count": null,
      "outputs": []
    },
    {
      "cell_type": "code",
      "source": [
        "import torch.optim as optim\n",
        "\n",
        "criterion = nn.CrossEntropyLoss()\n",
        "optimizer = optim.Adam(model.parameters(), lr=0.001)\n"
      ],
      "metadata": {
        "id": "LZOhYRig6h0Q"
      },
      "execution_count": null,
      "outputs": []
    },
    {
      "cell_type": "code",
      "source": [
        "def train_model(model, dataloaders, criterion, optimizer, num_epochs=10):\n",
        "    for epoch in range(num_epochs):\n",
        "        print(f\"\\nEpoch {epoch+1}/{num_epochs}\")\n",
        "        model.train()\n",
        "        running_loss = 0.0\n",
        "        correct = 0\n",
        "\n",
        "        for inputs, labels in dataloaders['train']:\n",
        "            inputs, labels = inputs.to(device), labels.to(device)\n",
        "\n",
        "            optimizer.zero_grad()\n",
        "            outputs = model(inputs)\n",
        "            loss = criterion(outputs, labels)\n",
        "            loss.backward()\n",
        "            optimizer.step()\n",
        "\n",
        "            _, preds = torch.max(outputs, 1)\n",
        "            running_loss += loss.item() * inputs.size(0)\n",
        "            correct += (preds == labels).sum().item()\n",
        "\n",
        "        epoch_loss = running_loss / len(dataloaders['train'].dataset)\n",
        "        epoch_acc = correct / len(dataloaders['train'].dataset)\n",
        "        print(f\"Loss: {epoch_loss:.4f}, Accuracy: {epoch_acc:.4f}\")\n",
        "\n",
        "train_model(model, dataloaders, criterion, optimizer)\n"
      ],
      "metadata": {
        "colab": {
          "base_uri": "https://localhost:8080/"
        },
        "id": "RSUYFcsK6hwL",
        "outputId": "9f5a3b26-733a-4f36-efca-aa810a12a3ce"
      },
      "execution_count": null,
      "outputs": [
        {
          "output_type": "stream",
          "name": "stdout",
          "text": [
            "\n",
            "Epoch 1/10\n",
            "Loss: 4.4945, Accuracy: 0.0171\n",
            "\n",
            "Epoch 2/10\n",
            "Loss: 4.2391, Accuracy: 0.0458\n",
            "\n",
            "Epoch 3/10\n",
            "Loss: 3.8778, Accuracy: 0.1023\n",
            "\n",
            "Epoch 4/10\n",
            "Loss: 3.3992, Accuracy: 0.1940\n",
            "\n",
            "Epoch 5/10\n",
            "Loss: 2.7449, Accuracy: 0.3419\n",
            "\n",
            "Epoch 6/10\n",
            "Loss: 2.0469, Accuracy: 0.5086\n",
            "\n",
            "Epoch 7/10\n",
            "Loss: 1.4753, Accuracy: 0.6470\n",
            "\n",
            "Epoch 8/10\n",
            "Loss: 1.0659, Accuracy: 0.7491\n",
            "\n",
            "Epoch 9/10\n",
            "Loss: 0.7517, Accuracy: 0.8197\n",
            "\n",
            "Epoch 10/10\n",
            "Loss: 0.5271, Accuracy: 0.8764\n"
          ]
        }
      ]
    }
  ]
}
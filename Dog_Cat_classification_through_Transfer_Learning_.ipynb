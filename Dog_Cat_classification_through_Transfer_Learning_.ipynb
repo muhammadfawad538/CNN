{
  "nbformat": 4,
  "nbformat_minor": 0,
  "metadata": {
    "colab": {
      "provenance": [],
      "gpuType": "T4",
      "authorship_tag": "ABX9TyPc2zuiTmodcq7ouX+mCkl7",
      "include_colab_link": true
    },
    "kernelspec": {
      "name": "python3",
      "display_name": "Python 3"
    },
    "language_info": {
      "name": "python"
    },
    "accelerator": "GPU"
  },
  "cells": [
    {
      "cell_type": "markdown",
      "metadata": {
        "id": "view-in-github",
        "colab_type": "text"
      },
      "source": [
        "<a href=\"https://colab.research.google.com/github/muhammadfawad538/CNN/blob/main/Dog_Cat_classification_through_Transfer_Learning_.ipynb\" target=\"_parent\"><img src=\"https://colab.research.google.com/assets/colab-badge.svg\" alt=\"Open In Colab\"/></a>"
      ]
    },
    {
      "cell_type": "code",
      "source": [
        "from google.colab import files\n",
        "files.upload()  # Choose kaggle.json\n"
      ],
      "metadata": {
        "colab": {
          "base_uri": "https://localhost:8080/",
          "height": 91
        },
        "id": "SaM5_gcDlTaF",
        "outputId": "47840c96-e81d-4211-9834-a64f8f8ee3e9"
      },
      "execution_count": 1,
      "outputs": [
        {
          "output_type": "display_data",
          "data": {
            "text/plain": [
              "<IPython.core.display.HTML object>"
            ],
            "text/html": [
              "\n",
              "     <input type=\"file\" id=\"files-96497714-d9a1-48ac-9412-655ed3797ac6\" name=\"files[]\" multiple disabled\n",
              "        style=\"border:none\" />\n",
              "     <output id=\"result-96497714-d9a1-48ac-9412-655ed3797ac6\">\n",
              "      Upload widget is only available when the cell has been executed in the\n",
              "      current browser session. Please rerun this cell to enable.\n",
              "      </output>\n",
              "      <script>// Copyright 2017 Google LLC\n",
              "//\n",
              "// Licensed under the Apache License, Version 2.0 (the \"License\");\n",
              "// you may not use this file except in compliance with the License.\n",
              "// You may obtain a copy of the License at\n",
              "//\n",
              "//      http://www.apache.org/licenses/LICENSE-2.0\n",
              "//\n",
              "// Unless required by applicable law or agreed to in writing, software\n",
              "// distributed under the License is distributed on an \"AS IS\" BASIS,\n",
              "// WITHOUT WARRANTIES OR CONDITIONS OF ANY KIND, either express or implied.\n",
              "// See the License for the specific language governing permissions and\n",
              "// limitations under the License.\n",
              "\n",
              "/**\n",
              " * @fileoverview Helpers for google.colab Python module.\n",
              " */\n",
              "(function(scope) {\n",
              "function span(text, styleAttributes = {}) {\n",
              "  const element = document.createElement('span');\n",
              "  element.textContent = text;\n",
              "  for (const key of Object.keys(styleAttributes)) {\n",
              "    element.style[key] = styleAttributes[key];\n",
              "  }\n",
              "  return element;\n",
              "}\n",
              "\n",
              "// Max number of bytes which will be uploaded at a time.\n",
              "const MAX_PAYLOAD_SIZE = 100 * 1024;\n",
              "\n",
              "function _uploadFiles(inputId, outputId) {\n",
              "  const steps = uploadFilesStep(inputId, outputId);\n",
              "  const outputElement = document.getElementById(outputId);\n",
              "  // Cache steps on the outputElement to make it available for the next call\n",
              "  // to uploadFilesContinue from Python.\n",
              "  outputElement.steps = steps;\n",
              "\n",
              "  return _uploadFilesContinue(outputId);\n",
              "}\n",
              "\n",
              "// This is roughly an async generator (not supported in the browser yet),\n",
              "// where there are multiple asynchronous steps and the Python side is going\n",
              "// to poll for completion of each step.\n",
              "// This uses a Promise to block the python side on completion of each step,\n",
              "// then passes the result of the previous step as the input to the next step.\n",
              "function _uploadFilesContinue(outputId) {\n",
              "  const outputElement = document.getElementById(outputId);\n",
              "  const steps = outputElement.steps;\n",
              "\n",
              "  const next = steps.next(outputElement.lastPromiseValue);\n",
              "  return Promise.resolve(next.value.promise).then((value) => {\n",
              "    // Cache the last promise value to make it available to the next\n",
              "    // step of the generator.\n",
              "    outputElement.lastPromiseValue = value;\n",
              "    return next.value.response;\n",
              "  });\n",
              "}\n",
              "\n",
              "/**\n",
              " * Generator function which is called between each async step of the upload\n",
              " * process.\n",
              " * @param {string} inputId Element ID of the input file picker element.\n",
              " * @param {string} outputId Element ID of the output display.\n",
              " * @return {!Iterable<!Object>} Iterable of next steps.\n",
              " */\n",
              "function* uploadFilesStep(inputId, outputId) {\n",
              "  const inputElement = document.getElementById(inputId);\n",
              "  inputElement.disabled = false;\n",
              "\n",
              "  const outputElement = document.getElementById(outputId);\n",
              "  outputElement.innerHTML = '';\n",
              "\n",
              "  const pickedPromise = new Promise((resolve) => {\n",
              "    inputElement.addEventListener('change', (e) => {\n",
              "      resolve(e.target.files);\n",
              "    });\n",
              "  });\n",
              "\n",
              "  const cancel = document.createElement('button');\n",
              "  inputElement.parentElement.appendChild(cancel);\n",
              "  cancel.textContent = 'Cancel upload';\n",
              "  const cancelPromise = new Promise((resolve) => {\n",
              "    cancel.onclick = () => {\n",
              "      resolve(null);\n",
              "    };\n",
              "  });\n",
              "\n",
              "  // Wait for the user to pick the files.\n",
              "  const files = yield {\n",
              "    promise: Promise.race([pickedPromise, cancelPromise]),\n",
              "    response: {\n",
              "      action: 'starting',\n",
              "    }\n",
              "  };\n",
              "\n",
              "  cancel.remove();\n",
              "\n",
              "  // Disable the input element since further picks are not allowed.\n",
              "  inputElement.disabled = true;\n",
              "\n",
              "  if (!files) {\n",
              "    return {\n",
              "      response: {\n",
              "        action: 'complete',\n",
              "      }\n",
              "    };\n",
              "  }\n",
              "\n",
              "  for (const file of files) {\n",
              "    const li = document.createElement('li');\n",
              "    li.append(span(file.name, {fontWeight: 'bold'}));\n",
              "    li.append(span(\n",
              "        `(${file.type || 'n/a'}) - ${file.size} bytes, ` +\n",
              "        `last modified: ${\n",
              "            file.lastModifiedDate ? file.lastModifiedDate.toLocaleDateString() :\n",
              "                                    'n/a'} - `));\n",
              "    const percent = span('0% done');\n",
              "    li.appendChild(percent);\n",
              "\n",
              "    outputElement.appendChild(li);\n",
              "\n",
              "    const fileDataPromise = new Promise((resolve) => {\n",
              "      const reader = new FileReader();\n",
              "      reader.onload = (e) => {\n",
              "        resolve(e.target.result);\n",
              "      };\n",
              "      reader.readAsArrayBuffer(file);\n",
              "    });\n",
              "    // Wait for the data to be ready.\n",
              "    let fileData = yield {\n",
              "      promise: fileDataPromise,\n",
              "      response: {\n",
              "        action: 'continue',\n",
              "      }\n",
              "    };\n",
              "\n",
              "    // Use a chunked sending to avoid message size limits. See b/62115660.\n",
              "    let position = 0;\n",
              "    do {\n",
              "      const length = Math.min(fileData.byteLength - position, MAX_PAYLOAD_SIZE);\n",
              "      const chunk = new Uint8Array(fileData, position, length);\n",
              "      position += length;\n",
              "\n",
              "      const base64 = btoa(String.fromCharCode.apply(null, chunk));\n",
              "      yield {\n",
              "        response: {\n",
              "          action: 'append',\n",
              "          file: file.name,\n",
              "          data: base64,\n",
              "        },\n",
              "      };\n",
              "\n",
              "      let percentDone = fileData.byteLength === 0 ?\n",
              "          100 :\n",
              "          Math.round((position / fileData.byteLength) * 100);\n",
              "      percent.textContent = `${percentDone}% done`;\n",
              "\n",
              "    } while (position < fileData.byteLength);\n",
              "  }\n",
              "\n",
              "  // All done.\n",
              "  yield {\n",
              "    response: {\n",
              "      action: 'complete',\n",
              "    }\n",
              "  };\n",
              "}\n",
              "\n",
              "scope.google = scope.google || {};\n",
              "scope.google.colab = scope.google.colab || {};\n",
              "scope.google.colab._files = {\n",
              "  _uploadFiles,\n",
              "  _uploadFilesContinue,\n",
              "};\n",
              "})(self);\n",
              "</script> "
            ]
          },
          "metadata": {}
        },
        {
          "output_type": "stream",
          "name": "stdout",
          "text": [
            "Saving kaggle (2).json to kaggle (2).json\n"
          ]
        },
        {
          "output_type": "execute_result",
          "data": {
            "text/plain": [
              "{'kaggle (2).json': b'{\"username\":\"saumaya\",\"key\":\"6a9a6991b3bd9614f63f102ed3c24d5e\"}'}"
            ]
          },
          "metadata": {},
          "execution_count": 1
        }
      ]
    },
    {
      "cell_type": "code",
      "source": [
        "!mkdir -p ~/.kaggle\n",
        "!mv \"kaggle (2).json\" ~/.kaggle/kaggle.json\n",
        "!chmod 600 ~/.kaggle/kaggle.json\n"
      ],
      "metadata": {
        "id": "IsBvyZG2lTbq"
      },
      "execution_count": 2,
      "outputs": []
    },
    {
      "cell_type": "code",
      "source": [
        "!kaggle datasets download -d tongpython/cat-and-dog\n"
      ],
      "metadata": {
        "colab": {
          "base_uri": "https://localhost:8080/"
        },
        "id": "u7hLu08WlTfC",
        "outputId": "c018f77b-a343-4119-dc58-d92f92051045"
      },
      "execution_count": 3,
      "outputs": [
        {
          "output_type": "stream",
          "name": "stdout",
          "text": [
            "Dataset URL: https://www.kaggle.com/datasets/tongpython/cat-and-dog\n",
            "License(s): CC0-1.0\n",
            "Downloading cat-and-dog.zip to /content\n",
            " 59% 128M/218M [00:00<00:00, 1.33GB/s]\n",
            "100% 218M/218M [00:00<00:00, 851MB/s] \n"
          ]
        }
      ]
    },
    {
      "cell_type": "code",
      "source": [
        "import zipfile\n",
        "\n",
        "zip_path = \"/content/cat-and-dog.zip\"  # downloaded file\n",
        "with zipfile.ZipFile(zip_path, 'r') as zip_ref:\n",
        "    zip_ref.extractall(\"/content/data\")\n"
      ],
      "metadata": {
        "id": "H3B0YzQAqitY"
      },
      "execution_count": 4,
      "outputs": []
    },
    {
      "cell_type": "code",
      "source": [
        "import os, shutil\n",
        "\n",
        "# Adjust this to the folder that contains all images (from previous listing)\n",
        "# e.g., extract_to + \"/train\" or extract_to (where cat.0.jpg files are)\n",
        "images_dir = \"/content/data/training_set/training_set\"   # change if different\n",
        "if not os.path.exists(images_dir):\n",
        "    # Try other common locations\n",
        "    possible = [os.path.join(extract_to, d) for d in os.listdir(extract_to)]\n",
        "    print(\"Possible top-level folders:\", possible[:10])\n",
        "    # update images_dir manually if needed\n",
        "    # images_dir = possible[0]  # <--- set this if you want\n",
        "else:\n",
        "    print(\"Images folder found:\", images_dir)\n",
        "\n",
        "# Make target directories\n",
        "base_out = \"/content/data\"  # final root for data\n",
        "train_root = os.path.join(base_out, \"train_all\")  # we'll split later\n",
        "os.makedirs(train_root, exist_ok=True)\n",
        "os.makedirs(os.path.join(train_root, \"cat\"), exist_ok=True)\n",
        "os.makedirs(os.path.join(train_root, \"dog\"), exist_ok=True)\n",
        "\n",
        "# Move files based on filename prefix\n",
        "moved=0\n",
        "for fname in os.listdir(images_dir):\n",
        "    if fname.lower().startswith(\"cat\"):\n",
        "        shutil.move(os.path.join(images_dir, fname), os.path.join(train_root, \"cat\", fname))\n",
        "        moved+=1\n",
        "    elif fname.lower().startswith(\"dog\"):\n",
        "        shutil.move(os.path.join(images_dir, fname), os.path.join(train_root, \"dog\", fname))\n",
        "        moved+=1\n",
        "\n",
        "print(\"Moved files:\", moved)\n",
        "# If your zip already had class subfolders, you can copy them to train_root instead.\n"
      ],
      "metadata": {
        "colab": {
          "base_uri": "https://localhost:8080/"
        },
        "id": "vgztcUwnlTmc",
        "outputId": "889ba016-a8a2-4365-9e8f-05d656cae956"
      },
      "execution_count": 5,
      "outputs": [
        {
          "output_type": "stream",
          "name": "stdout",
          "text": [
            "Images folder found: /content/data/training_set/training_set\n",
            "Moved files: 2\n"
          ]
        }
      ]
    },
    {
      "cell_type": "code",
      "source": [
        "import torch\n",
        "from torchvision import transforms, datasets\n",
        "from torch.utils.data import DataLoader, random_split, Dataset\n",
        "from PIL import Image\n",
        "\n",
        "data_root = \"/content/data/train_all\"  # path created above\n",
        "print(\"Data root:\", data_root)\n",
        "assert os.path.exists(data_root), \"data_root not found — update path\"\n",
        "\n",
        "# Transforms\n",
        "input_size = 224\n",
        "train_transform = transforms.Compose([\n",
        "    transforms.RandomResizedCrop(input_size),\n",
        "    transforms.RandomHorizontalFlip(),\n",
        "    transforms.ToTensor(),\n",
        "    transforms.Normalize([0.485,0.456,0.406],[0.229,0.224,0.225])\n",
        "])\n",
        "val_transform = transforms.Compose([\n",
        "    transforms.Resize(int(input_size*1.14)),\n",
        "    transforms.CenterCrop(input_size),\n",
        "    transforms.ToTensor(),\n",
        "    transforms.Normalize([0.485,0.456,0.406],[0.229,0.224,0.225])\n",
        "])\n",
        "\n",
        "# Full dataset using ImageFolder (initially with train_transform)\n",
        "full_dataset = datasets.ImageFolder(data_root, transform=train_transform)\n",
        "print(\"Total images:\", len(full_dataset))\n",
        "class_names = full_dataset.classes\n",
        "print(\"Classes:\", class_names)\n",
        "\n",
        "# Split 80% train / 20% val\n",
        "train_size = int(0.8 * len(full_dataset))\n",
        "val_size = len(full_dataset) - train_size\n",
        "train_subset, val_subset = random_split(full_dataset, [train_size, val_size], generator=torch.Generator().manual_seed(42))\n",
        "\n",
        "# Subset wrapper to apply different transforms for val\n",
        "class SubsetWithTransform(Dataset):\n",
        "    def __init__(self, subset, transform):\n",
        "        self.subset = subset\n",
        "        self.transform = transform\n",
        "        self.dataset = subset.dataset  # ImageFolder\n",
        "        self.indices = subset.indices  # indices inside the ImageFolder.samples\n",
        "    def __len__(self):\n",
        "        return len(self.indices)\n",
        "    def __getitem__(self, idx):\n",
        "        path, label = self.dataset.samples[self.indices[idx]]\n",
        "        img = Image.open(path).convert('RGB')\n",
        "        if self.transform:\n",
        "            img = self.transform(img)\n",
        "        return img, label\n",
        "\n",
        "train_dataset = SubsetWithTransform(train_subset, train_transform)\n",
        "val_dataset = SubsetWithTransform(val_subset, val_transform)\n",
        "\n",
        "batch_size = 32\n",
        "train_loader = DataLoader(train_dataset, batch_size=batch_size, shuffle=True, num_workers=4, pin_memory=True)\n",
        "val_loader = DataLoader(val_dataset, batch_size=batch_size, shuffle=False, num_workers=4, pin_memory=True)\n",
        "\n",
        "print(\"Train size:\", len(train_dataset), \"Val size:\", len(val_dataset))\n"
      ],
      "metadata": {
        "colab": {
          "base_uri": "https://localhost:8080/"
        },
        "id": "mGql9ndmlTps",
        "outputId": "e207701b-a7a9-4113-a88e-1b80d5b4de27"
      },
      "execution_count": 6,
      "outputs": [
        {
          "output_type": "stream",
          "name": "stdout",
          "text": [
            "Data root: /content/data/train_all\n",
            "Total images: 8005\n",
            "Classes: ['cat', 'dog']\n",
            "Train size: 6404 Val size: 1601\n"
          ]
        },
        {
          "output_type": "stream",
          "name": "stderr",
          "text": [
            "/usr/local/lib/python3.11/dist-packages/torch/utils/data/dataloader.py:624: UserWarning: This DataLoader will create 4 worker processes in total. Our suggested max number of worker in current system is 2, which is smaller than what this DataLoader is going to create. Please be aware that excessive worker creation might get DataLoader running slow or even freeze, lower the worker number to avoid potential slowness/freeze if necessary.\n",
            "  warnings.warn(\n"
          ]
        }
      ]
    },
    {
      "cell_type": "code",
      "source": [
        "import torch.nn as nn\n",
        "from torchvision import models\n",
        "\n",
        "device = torch.device(\"cuda\" if torch.cuda.is_available() else \"cpu\")\n",
        "print(\"Device:\", device)\n",
        "\n",
        "# Load pretrained VGG16 (compat for old/new torchvision)\n",
        "try:\n",
        "    vgg = models.vgg16(weights=models.VGG16_Weights.IMAGENET1K_V1)\n",
        "except Exception:\n",
        "    vgg = models.vgg16(pretrained=True)\n",
        "\n",
        "# Freeze feature extractor\n",
        "for param in vgg.features.parameters():\n",
        "    param.requires_grad = False\n",
        "\n",
        "# Replace classifier with smaller head for binary classification\n",
        "num_classes = len(class_names)  # should be 2\n",
        "vgg.classifier = nn.Sequential(\n",
        "    nn.Linear(25088, 1024),\n",
        "    nn.ReLU(inplace=True),\n",
        "    nn.Dropout(0.5),\n",
        "    nn.Linear(1024, num_classes)\n",
        ")\n",
        "\n",
        "model = vgg.to(device)\n",
        "print(model.classifier)\n"
      ],
      "metadata": {
        "colab": {
          "base_uri": "https://localhost:8080/"
        },
        "id": "UY7OgJwnlTrc",
        "outputId": "ac1fa2d0-d306-4ec4-e166-cd3368c79802"
      },
      "execution_count": 7,
      "outputs": [
        {
          "output_type": "stream",
          "name": "stdout",
          "text": [
            "Device: cuda\n"
          ]
        },
        {
          "output_type": "stream",
          "name": "stderr",
          "text": [
            "Downloading: \"https://download.pytorch.org/models/vgg16-397923af.pth\" to /root/.cache/torch/hub/checkpoints/vgg16-397923af.pth\n",
            "100%|██████████| 528M/528M [00:03<00:00, 173MB/s]\n"
          ]
        },
        {
          "output_type": "stream",
          "name": "stdout",
          "text": [
            "Sequential(\n",
            "  (0): Linear(in_features=25088, out_features=1024, bias=True)\n",
            "  (1): ReLU(inplace=True)\n",
            "  (2): Dropout(p=0.5, inplace=False)\n",
            "  (3): Linear(in_features=1024, out_features=2, bias=True)\n",
            ")\n"
          ]
        }
      ]
    },
    {
      "cell_type": "code",
      "source": [
        "import torch.optim as optim\n",
        "\n",
        "criterion = nn.CrossEntropyLoss()\n",
        "# Only train classifier params\n",
        "optimizer = optim.Adam(model.classifier.parameters(), lr=1e-4)\n",
        "# Scheduler to reduce LR every few epochs\n",
        "scheduler = optim.lr_scheduler.StepLR(optimizer, step_size=5, gamma=0.1)\n"
      ],
      "metadata": {
        "id": "eV73CSYKlTvG"
      },
      "execution_count": 8,
      "outputs": []
    },
    {
      "cell_type": "code",
      "source": [
        "import torch\n",
        "import torch.nn as nn\n",
        "import torch.optim as optim\n",
        "from torch.optim import lr_scheduler\n",
        "from torchvision import datasets, models, transforms\n",
        "from torch.utils.data import DataLoader, random_split\n",
        "import time, copy\n",
        "import os\n",
        "\n",
        "# ========================\n",
        "# 🔧 SETTINGS\n",
        "# ========================\n",
        "data_dir = \"/content/data/train_all\"  # replace with your extracted dataset folder\n",
        "batch_size = 16\n",
        "num_epochs = 3  # fewer epochs for CPU\n",
        "img_size = 128  # smaller image size\n",
        "\n",
        "device = torch.device(\"cuda\" if torch.cuda.is_available() else \"cpu\")\n",
        "\n",
        "# ========================\n",
        "# 📦 DATA AUGMENTATION\n",
        "# ========================\n",
        "data_transforms = {\n",
        "    'train': transforms.Compose([\n",
        "        transforms.Resize((img_size, img_size)),\n",
        "        transforms.RandomHorizontalFlip(),\n",
        "        transforms.RandomRotation(10),\n",
        "        transforms.ToTensor(),\n",
        "        transforms.Normalize([0.485, 0.456, 0.406],\n",
        "                             [0.229, 0.224, 0.225])\n",
        "    ]),\n",
        "    'val': transforms.Compose([\n",
        "        transforms.Resize((img_size, img_size)),\n",
        "        transforms.ToTensor(),\n",
        "        transforms.Normalize([0.485, 0.456, 0.406],\n",
        "                             [0.229, 0.224, 0.225])\n",
        "    ]),\n",
        "}\n",
        "\n",
        "full_dataset = datasets.ImageFolder(data_dir, transform=data_transforms['train'])\n",
        "\n",
        "# ✅ Dynamically calculate split sizes to avoid ValueError\n",
        "train_size = int(0.7 * len(full_dataset))  # 70% train\n",
        "val_size = len(full_dataset) - train_size  # rest validation\n",
        "train_dataset, val_dataset = random_split(full_dataset, [train_size, val_size])\n",
        "\n",
        "train_loader = DataLoader(train_dataset, batch_size=batch_size, shuffle=True, num_workers=2)\n",
        "val_loader = DataLoader(val_dataset, batch_size=batch_size, shuffle=False, num_workers=2)\n",
        "\n",
        "# ========================\n",
        "# 🧠 TRANSFER LEARNING (VGG16)\n",
        "# ========================\n",
        "model = models.vgg16(pretrained=True)\n",
        "for param in model.features.parameters():\n",
        "    param.requires_grad = False\n",
        "\n",
        "model.classifier[6] = nn.Linear(model.classifier[6].in_features, 2)  # binary classification\n",
        "model = model.to(device)\n",
        "\n",
        "criterion = nn.CrossEntropyLoss()\n",
        "optimizer = optim.Adam(model.classifier.parameters(), lr=0.001)\n",
        "scheduler = lr_scheduler.StepLR(optimizer, step_size=2, gamma=0.1)\n",
        "\n",
        "# ========================\n",
        "# 🚀 TRAINING LOOP\n",
        "# ========================\n",
        "best_model_wts = copy.deepcopy(model.state_dict())\n",
        "best_acc = 0.0\n",
        "\n",
        "for epoch in range(num_epochs):\n",
        "    print(f\"\\nEpoch [{epoch+1}/{num_epochs}]\")\n",
        "    print('-' * 30)\n",
        "\n",
        "    # Train phase\n",
        "    model.train()\n",
        "    running_loss = 0.0\n",
        "    running_corrects = 0\n",
        "    total_train = 0\n",
        "\n",
        "    for batch_idx, (inputs, labels) in enumerate(train_loader, 1):\n",
        "        inputs, labels = inputs.to(device), labels.to(device)\n",
        "\n",
        "        optimizer.zero_grad()\n",
        "        outputs = model(inputs)\n",
        "        loss = criterion(outputs, labels)\n",
        "        loss.backward()\n",
        "        optimizer.step()\n",
        "\n",
        "        _, preds = torch.max(outputs, 1)\n",
        "        running_loss += loss.item() * inputs.size(0)\n",
        "        running_corrects += torch.sum(preds == labels.data).item()\n",
        "        total_train += inputs.size(0)\n",
        "\n",
        "        # Show progress per batch\n",
        "        batch_acc = torch.sum(preds == labels.data).item() / inputs.size(0)\n",
        "        # print(f\" Batch [{batch_idx}/{len(train_loader)}] - Loss: {loss.item():.4f}, Acc: {batch_acc:.4f}\") # Removed for brevity\n",
        "\n",
        "    epoch_loss = running_loss / total_train\n",
        "    epoch_acc = running_corrects / total_train\n",
        "\n",
        "    # Validation\n",
        "    model.eval()\n",
        "    val_loss = 0.0\n",
        "    val_corrects = 0\n",
        "    total_val = 0\n",
        "    with torch.no_grad():\n",
        "        for inputs, labels in val_loader:\n",
        "            inputs, labels = inputs.to(device), labels.to(device)\n",
        "            outputs = model(inputs)\n",
        "            loss = criterion(outputs, labels)\n",
        "            _, preds = torch.max(outputs, 1)\n",
        "            val_loss += loss.item() * inputs.size(0)\n",
        "            val_corrects += torch.sum(preds == labels.data).item()\n",
        "            total_val += inputs.size(0)\n",
        "\n",
        "    val_epoch_loss = val_loss / total_val\n",
        "    val_epoch_acc = val_corrects / total_val\n",
        "\n",
        "    scheduler.step()\n",
        "\n",
        "    if val_epoch_acc > best_acc:\n",
        "        best_acc = val_epoch_acc\n",
        "        best_model_wts = copy.deepcopy(model.state_dict())\n",
        "        torch.save(model.state_dict(), \"best_vgg16_dogs_cats.pth\")\n",
        "\n",
        "    print(f\"Train Loss: {epoch_loss:.4f} Acc: {epoch_acc:.4f} | Val Loss: {val_epoch_loss:.4f} Acc: {val_epoch_acc:.4f}\")\n",
        "\n",
        "print(\"\\n✅ Best Val Accuracy:\", best_acc)\n",
        "model.load_state_dict(best_model_wts)"
      ],
      "metadata": {
        "colab": {
          "base_uri": "https://localhost:8080/"
        },
        "id": "uEFk7xpwshQM",
        "outputId": "99d28488-08aa-4f9c-dad8-3c48e078b044"
      },
      "execution_count": 11,
      "outputs": [
        {
          "output_type": "stream",
          "name": "stderr",
          "text": [
            "/usr/local/lib/python3.11/dist-packages/torchvision/models/_utils.py:208: UserWarning: The parameter 'pretrained' is deprecated since 0.13 and may be removed in the future, please use 'weights' instead.\n",
            "  warnings.warn(\n",
            "/usr/local/lib/python3.11/dist-packages/torchvision/models/_utils.py:223: UserWarning: Arguments other than a weight enum or `None` for 'weights' are deprecated since 0.13 and may be removed in the future. The current behavior is equivalent to passing `weights=VGG16_Weights.IMAGENET1K_V1`. You can also use `weights=VGG16_Weights.DEFAULT` to get the most up-to-date weights.\n",
            "  warnings.warn(msg)\n"
          ]
        },
        {
          "output_type": "stream",
          "name": "stdout",
          "text": [
            "\n",
            "Epoch [1/3]\n",
            "------------------------------\n",
            "Train Loss: 1.9211 Acc: 0.9175 | Val Loss: 2.0418 Acc: 0.9342\n",
            "\n",
            "Epoch [2/3]\n",
            "------------------------------\n",
            "Train Loss: 1.5516 Acc: 0.9420 | Val Loss: 0.8970 Acc: 0.9638\n",
            "\n",
            "Epoch [3/3]\n",
            "------------------------------\n",
            "Train Loss: 0.5434 Acc: 0.9650 | Val Loss: 0.3424 Acc: 0.9613\n",
            "\n",
            "✅ Best Val Accuracy: 0.9637801831806828\n"
          ]
        },
        {
          "output_type": "execute_result",
          "data": {
            "text/plain": [
              "<All keys matched successfully>"
            ]
          },
          "metadata": {},
          "execution_count": 11
        }
      ]
    },
    {
      "cell_type": "code",
      "source": [
        "from sklearn.metrics import confusion_matrix, classification_report\n",
        "import numpy as np\n",
        "import seaborn as sns\n",
        "import matplotlib.pyplot as plt\n",
        "\n",
        "model.eval()\n",
        "y_true = []\n",
        "y_pred = []\n",
        "with torch.no_grad():\n",
        "    for inputs, labels in val_loader:\n",
        "        inputs = inputs.to(device)\n",
        "        outputs = model(inputs)\n",
        "        _, preds = torch.max(outputs, 1)\n",
        "        y_true.extend(labels.numpy())\n",
        "        y_pred.extend(preds.cpu().numpy())\n",
        "\n",
        "cm = confusion_matrix(y_true, y_pred)\n",
        "plt.figure(figsize=(6,5))\n",
        "sns.heatmap(cm, annot=True, fmt='d', xticklabels=class_names, yticklabels=class_names, cmap='Blues')\n",
        "plt.xlabel('Predicted'); plt.ylabel('Actual'); plt.show()\n",
        "\n",
        "print(\"Classification Report:\\n\", classification_report(y_true, y_pred, target_names=class_names))\n",
        "per_class_acc = cm.diagonal() / cm.sum(axis=1)\n",
        "for i, cls in enumerate(class_names):\n",
        "    print(f\"{cls}: {per_class_acc[i]*100:.2f}%\")\n"
      ],
      "metadata": {
        "colab": {
          "base_uri": "https://localhost:8080/",
          "height": 680
        },
        "id": "MYF5iKQmzmA1",
        "outputId": "362ae671-e61f-408e-da1c-1b3844581b45"
      },
      "execution_count": 12,
      "outputs": [
        {
          "output_type": "display_data",
          "data": {
            "text/plain": [
              "<Figure size 600x500 with 2 Axes>"
            ],
            "image/png": "[encoded data removed]"
          },
          "metadata": {}
        },
        {
          "output_type": "stream",
          "name": "stdout",
          "text": [
            "Classification Report:\n",
            "               precision    recall  f1-score   support\n",
            "\n",
            "         cat       0.97      0.97      0.97      1202\n",
            "         dog       0.97      0.96      0.97      1200\n",
            "\n",
            "    accuracy                           0.97      2402\n",
            "   macro avg       0.97      0.97      0.97      2402\n",
            "weighted avg       0.97      0.97      0.97      2402\n",
            "\n",
            "cat: 96.76%\n",
            "dog: 96.50%\n"
          ]
        }
      ]
    },
    {
      "cell_type": "code",
      "source": [
        "import torch\n",
        "import torch.nn.functional as F\n",
        "from PIL import Image\n",
        "import os\n",
        "\n",
        "# Prediction function\n",
        "def predict_image(image_path, model, transform, class_names):\n",
        "    img = Image.open(image_path).convert('RGB')\n",
        "    inp = transform(img).unsqueeze(0).to(device)\n",
        "\n",
        "    model.eval()\n",
        "    with torch.no_grad():\n",
        "        out = model(inp)\n",
        "        probs = F.softmax(out, dim=1).cpu().numpy()[0]\n",
        "\n",
        "    # Get best prediction\n",
        "    top_idx = probs.argmax()\n",
        "    pred_class = class_names[top_idx]\n",
        "    pred_conf = probs[top_idx]\n",
        "\n",
        "    # Print all probabilities\n",
        "    print(\"\\n🔍 Prediction Results:\")\n",
        "    for cls, p in zip(class_names, probs):\n",
        "        print(f\"{cls}: {p*100:.2f}%\")\n",
        "\n",
        "    return pred_class, pred_conf\n",
        "\n",
        "\n",
        "# ---- USAGE EXAMPLE ----\n",
        "# Just replace 'your_image.jpg' with the path of the uploaded image\n",
        "uploaded_image_path = \"/content/data/train_all/cat/cats/cat.10.jpg\"  # <- change this after upload\n",
        "\n",
        "if os.path.exists(uploaded_image_path):\n",
        "    pred_class, conf = predict_image(uploaded_image_path, model, val_transform, class_names)\n",
        "    print(f\"\\n✅ Final Prediction: {pred_class} ({conf*100:.2f}% confidence)\")\n",
        "else:\n",
        "    print(\"❌ Image file not found. Please upload first.\")\n"
      ],
      "metadata": {
        "colab": {
          "base_uri": "https://localhost:8080/"
        },
        "id": "Lw-OK8EFzxgf",
        "outputId": "a2aefa73-209e-4aea-8064-bb734452fc24"
      },
      "execution_count": 16,
      "outputs": [
        {
          "output_type": "stream",
          "name": "stdout",
          "text": [
            "\n",
            "🔍 Prediction Results:\n",
            "cat: 100.00%\n",
            "dog: 0.00%\n",
            "\n",
            "✅ Final Prediction: cat (100.00% confidence)\n"
          ]
        }
      ]
    },
    {
      "cell_type": "code",
      "source": [
        "import torch\n",
        "import torch.nn.functional as F\n",
        "from PIL import Image\n",
        "import os\n",
        "\n",
        "# Prediction function\n",
        "def predict_image(image_path, model, transform, class_names):\n",
        "    img = Image.open(image_path).convert('RGB')\n",
        "    inp = transform(img).unsqueeze(0).to(device)\n",
        "\n",
        "    model.eval()\n",
        "    with torch.no_grad():\n",
        "        out = model(inp)\n",
        "        probs = F.softmax(out, dim=1).cpu().numpy()[0]\n",
        "\n",
        "    # Get best prediction\n",
        "    top_idx = probs.argmax()\n",
        "    pred_class = class_names[top_idx]\n",
        "    pred_conf = probs[top_idx]\n",
        "\n",
        "    # Print all probabilities\n",
        "    print(\"\\n🔍 Prediction Results:\")\n",
        "    for cls, p in zip(class_names, probs):\n",
        "        print(f\"{cls}: {p*100:.2f}%\")\n",
        "\n",
        "    return pred_class, pred_conf\n",
        "\n",
        "\n",
        "# ---- USAGE EXAMPLE ----\n",
        "# Just replace 'your_image.jpg' with the path of the uploaded image\n",
        "uploaded_image_path = \"/content/data/train_all/dog/dogs/dog.1002.jpg\"  # <- change this after upload\n",
        "\n",
        "if os.path.exists(uploaded_image_path):\n",
        "    pred_class, conf = predict_image(uploaded_image_path, model, val_transform, class_names)\n",
        "    print(f\"\\n✅ Final Prediction: {pred_class} ({conf*100:.2f}% confidence)\")\n",
        "else:\n",
        "    print(\"❌ Image file not found. Please upload first.\")\n"
      ],
      "metadata": {
        "colab": {
          "base_uri": "https://localhost:8080/"
        },
        "id": "o6zw-R561gWg",
        "outputId": "e321d4ab-72f7-4939-9923-5a9ba149b2bb"
      },
      "execution_count": 18,
      "outputs": [
        {
          "output_type": "stream",
          "name": "stdout",
          "text": [
            "\n",
            "🔍 Prediction Results:\n",
            "cat: 0.00%\n",
            "dog: 100.00%\n",
            "\n",
            "✅ Final Prediction: dog (100.00% confidence)\n"
          ]
        }
      ]
    },
    {
      "cell_type": "code",
      "source": [],
      "metadata": {
        "id": "N2LBZ7oSzl8C"
      },
      "execution_count": null,
      "outputs": []
    }
  ]
}
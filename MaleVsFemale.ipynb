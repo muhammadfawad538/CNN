{
  "cells": [
    {
      "cell_type": "markdown",
      "metadata": {
        "id": "view-in-github",
        "colab_type": "text"
      },
      "source": [
        "<a href=\"https://colab.research.google.com/github/muhammadfawad538/CNN/blob/main/MaleVsFemale.ipynb\" target=\"_parent\"><img src=\"https://colab.research.google.com/assets/colab-badge.svg\" alt=\"Open In Colab\"/></a>"
      ]
    },
    {
      "cell_type": "markdown",
      "metadata": {
        "id": "xZvnLfTi8Xyi"
      },
      "source": [
        "# **Female VS Male Prediction**"
      ]
    },
    {
      "cell_type": "markdown",
      "metadata": {
        "id": "5Y8201Nh8hqw"
      },
      "source": [
        "# **Defining Libraries**"
      ]
    },
    {
      "cell_type": "code",
      "execution_count": null,
      "metadata": {
        "id": "ibKzY7R7-ScK"
      },
      "outputs": [],
      "source": [
        "import os\n",
        "#  shutil ==> shell utility -> for file handling like copying,deleting,move etc\n",
        "import shutil\n",
        "import numpy as np\n",
        "import matplotlib.pyplot as plt\n",
        "from sklearn.model_selection import train_test_split\n",
        "import tensorflow as tf\n",
        "from tensorflow.keras.preprocessing.image import ImageDataGenerator\n",
        "from tensorflow.keras import layers, models, callbacks\n",
        "from tensorflow.keras.utils import plot_model\n",
        "from zipfile import ZipFile"
      ]
    },
    {
      "cell_type": "markdown",
      "metadata": {
        "id": "cKLB6Bt--ceL"
      },
      "source": [
        "# **Downloading Dataset**"
      ]
    },
    {
      "cell_type": "code",
      "execution_count": null,
      "metadata": {
        "colab": {
          "base_uri": "https://localhost:8080/",
          "height": 90
        },
        "id": "J4uZnalw-h2Z",
        "outputId": "4d26d370-9c68-40f5-aac9-73e44610a3f4"
      },
      "outputs": [
        {
          "data": {
            "text/html": [
              "\n",
              "     <input type=\"file\" id=\"files-c08eac3d-766a-4d9e-a2d4-2ed8b41d941b\" name=\"files[]\" multiple disabled\n",
              "        style=\"border:none\" />\n",
              "     <output id=\"result-c08eac3d-766a-4d9e-a2d4-2ed8b41d941b\">\n",
              "      Upload widget is only available when the cell has been executed in the\n",
              "      current browser session. Please rerun this cell to enable.\n",
              "      </output>\n",
              "      <script>// Copyright 2017 Google LLC\n",
              "//\n",
              "// Licensed under the Apache License, Version 2.0 (the \"License\");\n",
              "// you may not use this file except in compliance with the License.\n",
              "// You may obtain a copy of the License at\n",
              "//\n",
              "//      http://www.apache.org/licenses/LICENSE-2.0\n",
              "//\n",
              "// Unless required by applicable law or agreed to in writing, software\n",
              "// distributed under the License is distributed on an \"AS IS\" BASIS,\n",
              "// WITHOUT WARRANTIES OR CONDITIONS OF ANY KIND, either express or implied.\n",
              "// See the License for the specific language governing permissions and\n",
              "// limitations under the License.\n",
              "\n",
              "/**\n",
              " * @fileoverview Helpers for google.colab Python module.\n",
              " */\n",
              "(function(scope) {\n",
              "function span(text, styleAttributes = {}) {\n",
              "  const element = document.createElement('span');\n",
              "  element.textContent = text;\n",
              "  for (const key of Object.keys(styleAttributes)) {\n",
              "    element.style[key] = styleAttributes[key];\n",
              "  }\n",
              "  return element;\n",
              "}\n",
              "\n",
              "// Max number of bytes which will be uploaded at a time.\n",
              "const MAX_PAYLOAD_SIZE = 100 * 1024;\n",
              "\n",
              "function _uploadFiles(inputId, outputId) {\n",
              "  const steps = uploadFilesStep(inputId, outputId);\n",
              "  const outputElement = document.getElementById(outputId);\n",
              "  // Cache steps on the outputElement to make it available for the next call\n",
              "  // to uploadFilesContinue from Python.\n",
              "  outputElement.steps = steps;\n",
              "\n",
              "  return _uploadFilesContinue(outputId);\n",
              "}\n",
              "\n",
              "// This is roughly an async generator (not supported in the browser yet),\n",
              "// where there are multiple asynchronous steps and the Python side is going\n",
              "// to poll for completion of each step.\n",
              "// This uses a Promise to block the python side on completion of each step,\n",
              "// then passes the result of the previous step as the input to the next step.\n",
              "function _uploadFilesContinue(outputId) {\n",
              "  const outputElement = document.getElementById(outputId);\n",
              "  const steps = outputElement.steps;\n",
              "\n",
              "  const next = steps.next(outputElement.lastPromiseValue);\n",
              "  return Promise.resolve(next.value.promise).then((value) => {\n",
              "    // Cache the last promise value to make it available to the next\n",
              "    // step of the generator.\n",
              "    outputElement.lastPromiseValue = value;\n",
              "    return next.value.response;\n",
              "  });\n",
              "}\n",
              "\n",
              "/**\n",
              " * Generator function which is called between each async step of the upload\n",
              " * process.\n",
              " * @param {string} inputId Element ID of the input file picker element.\n",
              " * @param {string} outputId Element ID of the output display.\n",
              " * @return {!Iterable<!Object>} Iterable of next steps.\n",
              " */\n",
              "function* uploadFilesStep(inputId, outputId) {\n",
              "  const inputElement = document.getElementById(inputId);\n",
              "  inputElement.disabled = false;\n",
              "\n",
              "  const outputElement = document.getElementById(outputId);\n",
              "  outputElement.innerHTML = '';\n",
              "\n",
              "  const pickedPromise = new Promise((resolve) => {\n",
              "    inputElement.addEventListener('change', (e) => {\n",
              "      resolve(e.target.files);\n",
              "    });\n",
              "  });\n",
              "\n",
              "  const cancel = document.createElement('button');\n",
              "  inputElement.parentElement.appendChild(cancel);\n",
              "  cancel.textContent = 'Cancel upload';\n",
              "  const cancelPromise = new Promise((resolve) => {\n",
              "    cancel.onclick = () => {\n",
              "      resolve(null);\n",
              "    };\n",
              "  });\n",
              "\n",
              "  // Wait for the user to pick the files.\n",
              "  const files = yield {\n",
              "    promise: Promise.race([pickedPromise, cancelPromise]),\n",
              "    response: {\n",
              "      action: 'starting',\n",
              "    }\n",
              "  };\n",
              "\n",
              "  cancel.remove();\n",
              "\n",
              "  // Disable the input element since further picks are not allowed.\n",
              "  inputElement.disabled = true;\n",
              "\n",
              "  if (!files) {\n",
              "    return {\n",
              "      response: {\n",
              "        action: 'complete',\n",
              "      }\n",
              "    };\n",
              "  }\n",
              "\n",
              "  for (const file of files) {\n",
              "    const li = document.createElement('li');\n",
              "    li.append(span(file.name, {fontWeight: 'bold'}));\n",
              "    li.append(span(\n",
              "        `(${file.type || 'n/a'}) - ${file.size} bytes, ` +\n",
              "        `last modified: ${\n",
              "            file.lastModifiedDate ? file.lastModifiedDate.toLocaleDateString() :\n",
              "                                    'n/a'} - `));\n",
              "    const percent = span('0% done');\n",
              "    li.appendChild(percent);\n",
              "\n",
              "    outputElement.appendChild(li);\n",
              "\n",
              "    const fileDataPromise = new Promise((resolve) => {\n",
              "      const reader = new FileReader();\n",
              "      reader.onload = (e) => {\n",
              "        resolve(e.target.result);\n",
              "      };\n",
              "      reader.readAsArrayBuffer(file);\n",
              "    });\n",
              "    // Wait for the data to be ready.\n",
              "    let fileData = yield {\n",
              "      promise: fileDataPromise,\n",
              "      response: {\n",
              "        action: 'continue',\n",
              "      }\n",
              "    };\n",
              "\n",
              "    // Use a chunked sending to avoid message size limits. See b/62115660.\n",
              "    let position = 0;\n",
              "    do {\n",
              "      const length = Math.min(fileData.byteLength - position, MAX_PAYLOAD_SIZE);\n",
              "      const chunk = new Uint8Array(fileData, position, length);\n",
              "      position += length;\n",
              "\n",
              "      const base64 = btoa(String.fromCharCode.apply(null, chunk));\n",
              "      yield {\n",
              "        response: {\n",
              "          action: 'append',\n",
              "          file: file.name,\n",
              "          data: base64,\n",
              "        },\n",
              "      };\n",
              "\n",
              "      let percentDone = fileData.byteLength === 0 ?\n",
              "          100 :\n",
              "          Math.round((position / fileData.byteLength) * 100);\n",
              "      percent.textContent = `${percentDone}% done`;\n",
              "\n",
              "    } while (position < fileData.byteLength);\n",
              "  }\n",
              "\n",
              "  // All done.\n",
              "  yield {\n",
              "    response: {\n",
              "      action: 'complete',\n",
              "    }\n",
              "  };\n",
              "}\n",
              "\n",
              "scope.google = scope.google || {};\n",
              "scope.google.colab = scope.google.colab || {};\n",
              "scope.google.colab._files = {\n",
              "  _uploadFiles,\n",
              "  _uploadFilesContinue,\n",
              "};\n",
              "})(self);\n",
              "</script> "
            ],
            "text/plain": [
              "<IPython.core.display.HTML object>"
            ]
          },
          "metadata": {},
          "output_type": "display_data"
        },
        {
          "name": "stdout",
          "output_type": "stream",
          "text": [
            "Saving kaggle.json to kaggle (2).json\n"
          ]
        },
        {
          "data": {
            "text/plain": [
              "{'kaggle (2).json': b'{\"username\":\"kashafnaveed\",\"key\":\"0300ba42786a82b3d1de0d348ec7fd99\"}'}"
            ]
          },
          "execution_count": 26,
          "metadata": {},
          "output_type": "execute_result"
        }
      ],
      "source": [
        "from google.colab import files\n",
        "files.upload()\n"
      ]
    },
    {
      "cell_type": "code",
      "execution_count": null,
      "metadata": {
        "id": "DYuDSB-U-oEc"
      },
      "outputs": [],
      "source": [
        "!mkdir -p ~/.kaggle\n",
        "!cp kaggle.json ~/.kaggle/\n",
        "!chmod 600 ~/.kaggle/kaggle.json\n"
      ]
    },
    {
      "cell_type": "markdown",
      "metadata": {
        "id": "UMt09pONri4k"
      },
      "source": [
        "We can use dataset in 3 ways :\n",
        "*   By using CLI\n",
        "*   By using python library\n",
        "*   By downloading dataset directly from the kaggle to browser\n"
      ]
    },
    {
      "cell_type": "code",
      "execution_count": null,
      "metadata": {
        "colab": {
          "base_uri": "https://localhost:8080/"
        },
        "id": "HipYX4zw-qb4",
        "outputId": "2890c824-c8a9-4a0a-dadc-dc6b47e3cdfb"
      },
      "outputs": [
        {
          "name": "stdout",
          "output_type": "stream",
          "text": [
            "Dataset URL: https://www.kaggle.com/datasets/ashwingupta3012/male-and-female-faces-dataset\n",
            "License(s): CC0-1.0\n",
            "male-and-female-faces-dataset.zip: Skipping, found more recently modified local copy (use --force to force download)\n"
          ]
        }
      ],
      "source": [
        "# ==> by using command line interface (CLI)\n",
        "\n",
        "!kaggle datasets download -d ashwingupta3012/male-and-female-faces-dataset\n",
        "\n",
        "# ==>BY using python library ->  When we use this we don't have to unzip the file as it gives unzipped file\n",
        "\n",
        "# import kagglehub\n",
        "\n",
        "# path = kagglehub.dataset_download(\"ashwingupta3012/male-and-female-faces-dataset\")\n",
        "\n",
        "# print(\"Path to dataset files:\", path)\n"
      ]
    },
    {
      "cell_type": "markdown",
      "metadata": {
        "id": "g-zzCP6s876Q"
      },
      "source": [
        "**Unzip Dataset**"
      ]
    },
    {
      "cell_type": "code",
      "execution_count": null,
      "metadata": {
        "colab": {
          "background_save": true,
          "base_uri": "https://localhost:8080/"
        },
        "id": "NCjDe4EC-tJQ",
        "outputId": "b9c60ba6-e44a-4f60-8978-2a2d952d976a"
      },
      "outputs": [
        {
          "name": "stdout",
          "output_type": "stream",
          "text": [
            "Archive:  male-and-female-faces-dataset.zip\n",
            "replace male_female_faces/Male and Female face dataset/Female Faces/0 (1).jpeg? [y]es, [n]o, [A]ll, [N]one, [r]ename: "
          ]
        }
      ],
      "source": [
        "!unzip male-and-female-faces-dataset.zip -d male_female_faces"
      ]
    },
    {
      "cell_type": "markdown",
      "metadata": {
        "id": "vfF8F7Po9Pwm"
      },
      "source": [
        "# **Splitting the dataset**\n",
        "This step includes the splitting of the data into two categories of training data and testing data.20% data is for testing and 80% data for the training."
      ]
    },
    {
      "cell_type": "code",
      "execution_count": null,
      "metadata": {
        "id": "x5jsSRd9oqcO"
      },
      "outputs": [],
      "source": [
        "import os\n",
        "import shutil\n",
        "from sklearn.model_selection import train_test_split\n",
        "\n",
        "#  Base directory where your \"male\" and \"female\" folders are located\n",
        "base_dir = \"/content/male_female_faces/Male and Female face dataset\"\n",
        "classes = [\"Male Faces\", \"Female Faces\"]\n",
        "\n",
        "#  Target directories for split data\n",
        "target_dir = \"/content/split_faces\"\n",
        "train_dir = os.path.join(target_dir, \"Training\")\n",
        "test_dir = os.path.join(target_dir, \"Testing\")\n",
        "\n",
        "#  Create training/testing subdirectories\n",
        "for category in classes:\n",
        "    os.makedirs(os.path.join(train_dir, category), exist_ok=True)\n",
        "    os.makedirs(os.path.join(test_dir, category), exist_ok=True)\n",
        "\n",
        "# Loop through each category and split its images\n",
        "for category in classes:\n",
        "    category_path = os.path.join(base_dir, category)\n",
        "    images = os.listdir(category_path)\n",
        "\n",
        "    # Split into 80% train and 20% test\n",
        "    train_imgs, test_imgs = train_test_split(images, test_size=0.2, random_state=42)\n",
        "\n",
        "    # Copy images to training folder\n",
        "    for img in train_imgs:\n",
        "        shutil.copy(os.path.join(category_path, img), os.path.join(train_dir, category, img))\n",
        "\n",
        "    # Copy images to testing folder\n",
        "    for img in test_imgs:\n",
        "        shutil.copy(os.path.join(category_path, img), os.path.join(test_dir, category, img))\n",
        "\n",
        "print(\" Dataset successfully split into train/test sets.\")\n"
      ]
    },
    {
      "cell_type": "markdown",
      "metadata": {
        "id": "Cc46meLW-UjX"
      },
      "source": [
        "This step is for converting all the images to RGB"
      ]
    },
    {
      "cell_type": "code",
      "execution_count": null,
      "metadata": {
        "id": "enARtTdvyBWt"
      },
      "outputs": [],
      "source": [
        "from PIL import Image\n",
        "\n",
        "def convert_all_images_to_rgb(folder):\n",
        "    for root, dirs, files in os.walk(folder):\n",
        "        for filename in files:\n",
        "            if filename.lower().endswith(('.png', '.jpg', '.jpeg')):\n",
        "                path = os.path.join(root, filename)\n",
        "                try:\n",
        "                    img = Image.open(path)\n",
        "                    if img.mode != 'RGB':\n",
        "                        img = img.convert('RGB')\n",
        "                        img.save(path)\n",
        "                except Exception as e:\n",
        "                    print(f\"Failed to convert {path}: {e}\")\n",
        "\n",
        "# Apply to training and testing folders\n",
        "convert_all_images_to_rgb(\"/content/split_faces/Training\")\n",
        "convert_all_images_to_rgb(\"/content/split_faces/Testing\")\n"
      ]
    },
    {
      "cell_type": "markdown",
      "metadata": {
        "id": "wrpl3wnT-jJn"
      },
      "source": [
        "This part is used to check the image size"
      ]
    },
    {
      "cell_type": "code",
      "execution_count": null,
      "metadata": {
        "id": "piYueeoa8zbx"
      },
      "outputs": [],
      "source": [
        "from PIL import Image\n",
        "import os\n",
        "\n",
        "# Path to a folder containing the dataset\n",
        "dataset_folder = '/content/split_faces'\n",
        "\n",
        "# Get the first image in the folder (you can modify the loop to check all images)\n",
        "first_image_path = os.path.join(dataset_folder, 'Male Faces', '0 (1).jpeg')\n",
        "\n",
        "\n"
      ]
    },
    {
      "cell_type": "markdown",
      "metadata": {
        "id": "gviY43J-tu0f"
      },
      "source": [
        "# **Image Data generator**"
      ]
    },
    {
      "cell_type": "markdown",
      "metadata": {
        "id": "zRtHFeBr-s9g"
      },
      "source": [
        "Before this part,I have **3 classes** in my training and testing data but it should be 2 classes so, this steps removes the 3rd class which named '.ipynb_checkpoints'"
      ]
    },
    {
      "cell_type": "code",
      "execution_count": null,
      "metadata": {
        "id": "1paCma9N2qkS"
      },
      "outputs": [],
      "source": [
        "import shutil\n",
        "\n",
        "# Example: remove if exists\n",
        "shutil.rmtree(os.path.join(train_dir, \".ipynb_checkpoints\"), ignore_errors=True)\n",
        "shutil.rmtree(os.path.join(test_dir, \".ipynb_checkpoints\"), ignore_errors=True)\n"
      ]
    },
    {
      "cell_type": "markdown",
      "metadata": {
        "id": "GaI69yCk_Rs0"
      },
      "source": [
        "This steps includes the **normalization and generalization** of the dataset"
      ]
    },
    {
      "cell_type": "code",
      "execution_count": null,
      "metadata": {
        "id": "5RqEbyfNtxpo"
      },
      "outputs": [],
      "source": [
        "image_size = (64, 64)\n",
        "batch_size = 32\n",
        "\n",
        "# ImageDataGenerator is used to preprocess and augment image data before feeding it into your model. This helps with normalization and generalization.\n",
        "\n",
        "train_datagen = ImageDataGenerator(rescale=1./255, horizontal_flip=True)\n",
        "test_datagen = ImageDataGenerator(rescale=1./255)\n",
        "\n",
        "train_generator = train_datagen.flow_from_directory(\n",
        "    train_dir,\n",
        "    target_size=image_size,\n",
        "    batch_size=batch_size,\n",
        "    class_mode='binary'\n",
        ")\n",
        "\n",
        "test_generator = test_datagen.flow_from_directory(\n",
        "    test_dir,\n",
        "    target_size=image_size,\n",
        "    batch_size=batch_size,\n",
        "    class_mode='binary'\n",
        ")"
      ]
    },
    {
      "cell_type": "markdown",
      "metadata": {
        "id": "JISmNAsyt0q4"
      },
      "source": [
        "# **Define CNN Model**"
      ]
    },
    {
      "cell_type": "code",
      "execution_count": null,
      "metadata": {
        "id": "mSRL_6WQt7WE"
      },
      "outputs": [],
      "source": [
        "model = models.Sequential([\n",
        "    layers.Conv2D(32, (3, 3), activation='relu', input_shape=(64, 64, 3)),\n",
        "    layers.MaxPooling2D(2, 2),\n",
        "\n",
        "    layers.Conv2D(64, (3, 3), activation='relu'),\n",
        "    layers.MaxPooling2D(2, 2),\n",
        "\n",
        "    layers.Conv2D(128, (3, 3), activation='relu'),\n",
        "    layers.MaxPooling2D(2, 2),\n",
        "\n",
        "    layers.Flatten(),\n",
        "    layers.Dense(128, activation='relu'),\n",
        "    # Dropout helps to prevent overfitting by forcing the model to not depend on any single neuron too much and instead learn more robust features.\n",
        "    layers.Dropout(0.5),\n",
        "    layers.Dense(1, activation='sigmoid')  # binary classification\n",
        "])\n"
      ]
    },
    {
      "cell_type": "code",
      "execution_count": null,
      "metadata": {
        "id": "-QE7Hakft-4x"
      },
      "outputs": [],
      "source": [
        "model.compile(optimizer='adam',\n",
        "              loss='binary_crossentropy',\n",
        "              metrics=['accuracy'])\n",
        "\n",
        "model.summary()"
      ]
    },
    {
      "cell_type": "markdown",
      "metadata": {
        "id": "69bU4ypEuA5f"
      },
      "source": [
        "# **Setup early stopping**"
      ]
    },
    {
      "cell_type": "code",
      "execution_count": null,
      "metadata": {
        "id": "Mo9OJ5IQuGqJ"
      },
      "outputs": [],
      "source": [
        "# Early stopping is a technique used during model training to stop training early if the model's performance stops improving on the validation set. This helps avoid overfitting\n",
        "# early_stop = callbacks.EarlyStopping(monitor='val_loss', patience=3, restore_best_weights=True)"
      ]
    },
    {
      "cell_type": "markdown",
      "metadata": {
        "id": "OL92ITtouJ1Z"
      },
      "source": [
        "# **Train Model**"
      ]
    },
    {
      "cell_type": "code",
      "execution_count": null,
      "metadata": {
        "id": "80cKENiTuNwY"
      },
      "outputs": [],
      "source": [
        "# Early stopping is a technique used during model training to stop training early if the model's performance stops improving on the validation set. This helps avoid overfitting\n",
        "early_stop = callbacks.EarlyStopping(monitor='val_loss', patience=3, restore_best_weights=True)\n",
        "\n",
        "history = model.fit(\n",
        "    train_generator,\n",
        "    epochs=10,\n",
        "    validation_data=test_generator,\n",
        "    callbacks=[early_stop]\n",
        ")"
      ]
    },
    {
      "cell_type": "markdown",
      "metadata": {
        "id": "_THdxp22uSAY"
      },
      "source": [
        "# **Evaluate Model**"
      ]
    },
    {
      "cell_type": "code",
      "execution_count": null,
      "metadata": {
        "id": "-glw1TQGuU82"
      },
      "outputs": [],
      "source": [
        "loss, acc = model.evaluate(test_generator)\n",
        "print(f\"✅ Test Accuracy: {acc * 100:.2f}%\")"
      ]
    },
    {
      "cell_type": "markdown",
      "metadata": {
        "id": "3b8S7VFZuZwx"
      },
      "source": [
        "# **Save Model**"
      ]
    },
    {
      "cell_type": "code",
      "execution_count": null,
      "metadata": {
        "id": "A1CqH5JaucWM"
      },
      "outputs": [],
      "source": [
        "model.save(\"/content/male_female_cnn_model.h5\")\n",
        "# for downloading the model to local\n",
        "from google.colab import files\n",
        "files.download(\"/content/male_female_cnn_model.h5\")"
      ]
    },
    {
      "cell_type": "code",
      "execution_count": null,
      "metadata": {
        "id": "iCCZ8rGNuluP"
      },
      "outputs": [],
      "source": [
        "# Plot Accuracy\n",
        "plt.plot(history.history['accuracy'], label='Train Acc')\n",
        "plt.plot(history.history['val_accuracy'], label='Val Acc')\n",
        "plt.xlabel(\"Epochs\")\n",
        "plt.ylabel(\"Accuracy\")\n",
        "plt.title(\"Training vs Validation Accuracy\")\n",
        "plt.legend()\n",
        "plt.show()\n",
        "\n",
        "# Plot Loss\n",
        "plt.plot(history.history['loss'], label='Train Loss')\n",
        "plt.plot(history.history['val_loss'], label='Val Loss')\n",
        "plt.xlabel(\"Epochs\")\n",
        "plt.ylabel(\"Loss\")\n",
        "plt.title(\"Training vs Validation Loss\")\n",
        "plt.legend()\n",
        "plt.show()"
      ]
    },
    {
      "cell_type": "markdown",
      "metadata": {
        "id": "QmHoChlE_uR8"
      },
      "source": [
        "# **Testing**"
      ]
    },
    {
      "cell_type": "markdown",
      "metadata": {
        "id": "666Xk0nH_4CK"
      },
      "source": [
        "This step includes the **testing of model** from test data"
      ]
    },
    {
      "cell_type": "code",
      "execution_count": null,
      "metadata": {
        "id": "10HpDVbx7O63"
      },
      "outputs": [],
      "source": [
        "# Predict on first 5 test images\n",
        "plt.figure(figsize=(12, 10))\n",
        "\n",
        "# Keep track of the number of images processed\n",
        "processed_images_count = 0\n",
        "\n",
        "# Iterate through each class subdirectory in the test folder\n",
        "for class_name in class_names:\n",
        "    class_folder = os.path.join('/content/split_faces/Testing', class_name)\n",
        "\n",
        "    # Check if the path is a directory before listing files\n",
        "    if os.path.isdir(class_folder):\n",
        "        # List all files in the class folder and sort them for consistent ordering\n",
        "        for img_name in sorted(os.listdir(class_folder)):\n",
        "            # Construct the full image path\n",
        "            img_path = os.path.join(class_folder, img_name)\n",
        "\n",
        "            # Check if it's a file and has a common image extension\n",
        "            if os.path.isfile(img_path) and img_name.lower().endswith(('.png', '.jpg', '.jpeg')):\n",
        "\n",
        "                # Limit to the first 5 images\n",
        "                if processed_images_count >= 5:\n",
        "                    break # Exit the inner loop if 5 images are processed\n",
        "\n",
        "                try:\n",
        "                    # Load and preprocess image\n",
        "                    img = image.load_img(img_path, target_size=(64, 64))\n",
        "                    img_array = image.img_to_array(img) / 255.0  # Normalizing the image to [0, 1]\n",
        "                    img_array_expanded = np.expand_dims(img_array, axis=0)  # Adding batch dimension\n",
        "\n",
        "                    # Prediction\n",
        "                    prediction = model.predict(img_array_expanded)\n",
        "                    confidence = float(prediction[0][0])\n",
        "\n",
        "                    # Interpret prediction (for binary classification)\n",
        "                    if confidence < 0.5:\n",
        "                        predicted_label = 'Female Faces'\n",
        "                        confidence = 1 - confidence  # Confidence for the other class\n",
        "                    else:\n",
        "                        predicted_label = 'Male Faces'\n",
        "\n",
        "\n",
        "                    # Plot image\n",
        "                    plt.subplot(2, 3, processed_images_count + 1)  # Use processed_images_count for subplot index\n",
        "                    plt.imshow(img_array)\n",
        "                    plt.axis('off')\n",
        "\n",
        "                    # Actual label is the name of the folder it's in (i.e., \"Male Faces\" or \"Female Faces\")\n",
        "                    actual_label = class_name\n",
        "\n",
        "                    # Display both predicted and actual labels along with confidence\n",
        "                    plt.title(f\"Pred: {predicted_label}\\nActual: {actual_label}\\nConf: {confidence*100:.2f}%\")\n",
        "\n",
        "                    processed_images_count += 1  # Increment counter\n",
        "\n",
        "                except Exception as e:\n",
        "                    print(f\"Error processing image {img_path}: {e}\")\n",
        "                    continue # Skip to the next image if there's an error\n",
        "\n",
        "        if processed_images_count >= 5:\n",
        "            break  # Exit the outer loop if 5 images are processed\n",
        "\n",
        "plt.tight_layout()\n",
        "plt.show()"
      ]
    }
  ],
  "metadata": {
    "colab": {
      "provenance": [],
      "include_colab_link": true
    },
    "kernelspec": {
      "display_name": "Python 3",
      "name": "python3"
    },
    "language_info": {
      "name": "python"
    }
  },
  "nbformat": 4,
  "nbformat_minor": 0
}